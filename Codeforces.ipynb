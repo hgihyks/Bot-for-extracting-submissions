{
 "cells": [
  {
   "cell_type": "code",
   "execution_count": 1,
   "metadata": {},
   "outputs": [],
   "source": [
    "from selenium import webdriver"
   ]
  },
  {
   "cell_type": "code",
   "execution_count": 2,
   "metadata": {},
   "outputs": [],
   "source": [
    "from selenium.webdriver.common.by import By\n",
    "from selenium.webdriver.common.keys import Keys"
   ]
  },
  {
   "cell_type": "code",
   "execution_count": 3,
   "metadata": {},
   "outputs": [],
   "source": [
    "from selenium.webdriver.support.ui import WebDriverWait"
   ]
  },
  {
   "cell_type": "code",
   "execution_count": 4,
   "metadata": {},
   "outputs": [],
   "source": [
    "import time\n",
    "import os"
   ]
  },
  {
   "cell_type": "code",
   "execution_count": 7,
   "metadata": {},
   "outputs": [],
   "source": [
    "def make_folder(prob_name,link):\n",
    "    filename = prob_name + '.cpp'\n",
    "    folder_path = \"Choose a path\" + prob_name\n",
    "    os.mkdir(folder_path)\n",
    "    path = folder_path + '/' + filename\n",
    "    f = open(path,\"x\")\n",
    "    f.write(code)\n",
    "    f.close()\n",
    "\n",
    "    f = open(folder_path + '/Readme.md','x')\n",
    "    text = 'Link to the problem: [' + prob_name + '](' + link + ')'\n",
    "    f.write(text)\n",
    "    f.close()"
   ]
  },
  {
   "cell_type": "code",
   "execution_count": 5,
   "metadata": {},
   "outputs": [],
   "source": [
    "url = 'https://codeforces.com/'\n",
    "browser = webdriver.Chrome('./chromedriver.exe')"
   ]
  },
  {
   "cell_type": "code",
   "execution_count": 6,
   "metadata": {},
   "outputs": [],
   "source": [
    "browser.get(url) # Open codeforces\n",
    "browser.find_element_by_xpath('//*[@id=\"header\"]/div[2]/div[2]/a[1]').click() # Press Login\n",
    "browser.find_element_by_name(\"handleOrEmail\").send_keys(\"Enter you mail id\") # Enter email\n",
    "browser.find_element_by_xpath('//*[@id=\"password\"]').send_keys(\"Enter your Password\" + Keys.ENTER) #Enter Password\n",
    "time.sleep(5)\n",
    "browser.find_element_by_xpath('//*[@id=\"header\"]/div[2]/div[2]/a[1]').click() # Open Profile\n",
    "browser.find_element_by_xpath('//*[@id=\"pageContent\"]/div[1]/ul/li[7]/a').click() # Open Submissions\n",
    "browser.find_element_by_xpath('//*[@id=\"verdictName\"]/option[2]').click() # Change filter to Accepted\n",
    "browser.find_element_by_xpath('//*[@id=\"sidebar\"]/div[3]/div[4]/form/div[2]/input[1]').click() # Press Apply"
   ]
  },
  {
   "cell_type": "code",
   "execution_count": null,
   "metadata": {},
   "outputs": [],
   "source": [
    "problems = {}\n",
    "while(1):\n",
    "    time.sleep(5)\n",
    "    num_of_rows = len(browser.find_elements_by_xpath('//*[@id=\"pageContent\"]/div[4]/div[6]/table/tbody/tr'))\n",
    "    for i in range(1,num_of_rows):\n",
    "        xpath_of_problem = '//*[@id=\"pageContent\"]/div[4]/div[6]/table/tbody/tr[' + str(i+1) + ']/td[4]/a'\n",
    "        elem = browser.find_element_by_xpath(xpath_of_problem) # Get problem element\n",
    "        link = elem.get_attribute('href')\n",
    "        prob_name = elem.text\n",
    "        \n",
    "        if prob_name in problems:\n",
    "            continue\n",
    "        problems[prob_name] = 1\n",
    "        \n",
    "        xpath_of_submission = '//*[@id=\"pageContent\"]/div[4]/div[6]/table/tbody/tr[' + str(i+1) + ']/td[1]/a'\n",
    "        browser.find_element_by_xpath(xpath_of_submission).click() # Open code\n",
    "        time.sleep(3)\n",
    "        code = browser.find_element_by_xpath('//*[@id=\"facebox\"]/div/div/div/pre/code/ol').text # Get code\n",
    "        time.sleep(5)\n",
    "        browser.find_element_by_xpath('//*[@id=\"facebox\"]/div/a/img').click() # Press close\n",
    "\n",
    "        make_folder(prob_name,link)\n",
    "        \n",
    "    time.sleep(2)\n",
    "    try:\n",
    "        browser.find_element_by_xpath('//*[@id=\"pageContent\"]/div[9]/ul/li[3]/a').click() # next arrow\n",
    "    except:\n",
    "        break"
   ]
  },
  {
   "cell_type": "code",
   "execution_count": null,
   "metadata": {},
   "outputs": [],
   "source": []
  }
 ],
 "metadata": {
  "kernelspec": {
   "display_name": "Python 3",
   "language": "python",
   "name": "python3"
  },
  "language_info": {
   "codemirror_mode": {
    "name": "ipython",
    "version": 3
   },
   "file_extension": ".py",
   "mimetype": "text/x-python",
   "name": "python",
   "nbconvert_exporter": "python",
   "pygments_lexer": "ipython3",
   "version": "3.7.3"
  }
 },
 "nbformat": 4,
 "nbformat_minor": 2
}
