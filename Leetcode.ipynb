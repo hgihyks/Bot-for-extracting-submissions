{
 "cells": [
  {
   "cell_type": "code",
   "execution_count": 1,
   "metadata": {},
   "outputs": [],
   "source": [
    "from selenium import webdriver"
   ]
  },
  {
   "cell_type": "code",
   "execution_count": 2,
   "metadata": {},
   "outputs": [],
   "source": [
    "from selenium.webdriver.common.by import By\n",
    "from selenium.webdriver.common.keys import Keys"
   ]
  },
  {
   "cell_type": "code",
   "execution_count": 3,
   "metadata": {},
   "outputs": [],
   "source": [
    "from time import sleep\n",
    "import os"
   ]
  },
  {
   "cell_type": "code",
   "execution_count": 4,
   "metadata": {},
   "outputs": [],
   "source": [
    "def make_folder(prob_name,link):\n",
    "    filename = prob_name + '.cpp'\n",
    "    folder_path = \"Enter a local path\" + prob_name\n",
    "    os.mkdir(folder_path)\n",
    "    path = folder_path + '/' + filename\n",
    "    f = open(path,\"x\")\n",
    "    f.write(code)\n",
    "    f.close()\n",
    "\n",
    "    f = open(folder_path + '/Readme.md','x')\n",
    "    text = 'Link to the problem: [' + prob_name + '](' + link + ')'\n",
    "    f.write(text)\n",
    "    f.close()"
   ]
  },
  {
   "cell_type": "code",
   "execution_count": 5,
   "metadata": {},
   "outputs": [],
   "source": [
    "url = 'https://leetcode.com/'"
   ]
  },
  {
   "cell_type": "code",
   "execution_count": 6,
   "metadata": {
    "scrolled": false
   },
   "outputs": [],
   "source": [
    "browser = webdriver.Chrome('./chromedriver.exe')\n",
    "browser.get(url)\n",
    "\n",
    "browser.find_element_by_xpath('//*[@id=\"landing-page-app\"]/div/div[1]/div[3]/div[1]/div/div/div[2]/div/a[5]/span').click() # Sign in\n",
    "browser.find_element_by_xpath('//*[@id=\"id_login\"]').send_keys(\"Enter your username\") # Email\n",
    "browser.find_element_by_xpath('//*[@id=\"id_password\"]').send_keys(\"Enter your password\" + Keys.ENTER) # Password\n",
    "sleep(5)\n",
    "browser.find_element_by_xpath('//*[@id=\"navbar-right-container\"]/div[4]/a').click() # Profile\n",
    "browser.find_element_by_xpath('/html/body/div[7]/div/div/ul/li[5]/a/div/div').click() # Submissions"
   ]
  },
  {
   "cell_type": "code",
   "execution_count": 7,
   "metadata": {},
   "outputs": [],
   "source": [
    "problems = {}"
   ]
  },
  {
   "cell_type": "code",
   "execution_count": null,
   "metadata": {},
   "outputs": [],
   "source": [
    "while(1):\n",
    "    sleep(5)\n",
    "    num_of_rows = len(browser.find_elements_by_xpath('//*[@id=\"submission-list-app\"]/div/table/tbody/tr'))\n",
    "    for i in range(num_of_rows):\n",
    "        xpath_of_status_link = '//*[@id=\"submission-list-app\"]/div/table/tbody/tr[' + str(i+1) + ']/td[3]/a'\n",
    "        xpath_of_problem = '//*[@id=\"submission-list-app\"]/div/table/tbody/tr[' + str(i+1) + ']/td[2]'\n",
    "        elem = browser.find_element_by_xpath(xpath_of_status_link) # Get problem element\n",
    "        prob_name = browser.find_element_by_xpath(xpath_of_problem).text\n",
    "        soln_link = elem.get_attribute('href')\n",
    "        status = elem.text\n",
    "        \n",
    "        if status!='Accepted':\n",
    "            continue\n",
    "        if prob_name in problems:\n",
    "            continue\n",
    "        problems[prob_name] = 1\n",
    "        \n",
    "        browser.execute_script(\"window.open('');\") # Open new tab\n",
    "        browser.switch_to.window(browser.window_handles[1]) # Switch Control\n",
    "        browser.get(soln_link) # Open Solution\n",
    "        prob_elem = browser.find_element_by_xpath('//*[@id=\"submission-app\"]/div/div[1]/h4/a')\n",
    "        prob_link = prob_elem.get_attribute('href')\n",
    "        code = browser.find_element_by_xpath('//*[@id=\"ace\"]/div/div[3]').text # Get code\n",
    "        browser.close() # Close tab\n",
    "        browser.switch_to.window(browser.window_handles[0]) # Switch back control\n",
    "        \n",
    "\n",
    "        make_folder(prob_name,prob_link)\n",
    "        \n",
    "    sleep(2)\n",
    "    try:\n",
    "        browser.find_element_by_xpath('//*[@id=\"submission-list-app\"]/div/nav/ul/li[2]/a').click() # next arrow\n",
    "    except:\n",
    "        break"
   ]
  },
  {
   "cell_type": "code",
   "execution_count": null,
   "metadata": {},
   "outputs": [],
   "source": []
  }
 ],
 "metadata": {
  "kernelspec": {
   "display_name": "Python 3",
   "language": "python",
   "name": "python3"
  },
  "language_info": {
   "codemirror_mode": {
    "name": "ipython",
    "version": 3
   },
   "file_extension": ".py",
   "mimetype": "text/x-python",
   "name": "python",
   "nbconvert_exporter": "python",
   "pygments_lexer": "ipython3",
   "version": "3.7.3"
  }
 },
 "nbformat": 4,
 "nbformat_minor": 2
}
