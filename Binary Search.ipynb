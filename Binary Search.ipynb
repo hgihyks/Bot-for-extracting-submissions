{
 "cells": [
  {
   "cell_type": "code",
   "execution_count": 1,
   "metadata": {},
   "outputs": [],
   "source": [
    "from selenium import webdriver"
   ]
  },
  {
   "cell_type": "code",
   "execution_count": 2,
   "metadata": {},
   "outputs": [],
   "source": [
    "from selenium.webdriver.common.by import By\n",
    "from selenium.webdriver.common.keys import Keys"
   ]
  },
  {
   "cell_type": "code",
   "execution_count": 3,
   "metadata": {},
   "outputs": [],
   "source": [
    "from time import sleep\n",
    "import os"
   ]
  },
  {
   "cell_type": "code",
   "execution_count": 4,
   "metadata": {},
   "outputs": [],
   "source": [
    "def make_folder(prob_name,link):\n",
    "    filename = prob_name + '.cpp'\n",
    "    folder_path = \"Enter a local path\" + prob_name\n",
    "    os.mkdir(folder_path)\n",
    "    path = folder_path + '/' + filename\n",
    "    f = open(path,\"x\")\n",
    "    f.write(code)\n",
    "    f.close()\n",
    "\n",
    "    f = open(folder_path + '/Readme.md','x')\n",
    "    text = 'Link to the problem: [' + prob_name + '](' + link + ')'\n",
    "    try:\n",
    "        f.write(text)\n",
    "    except:\n",
    "        f.close()\n",
    "        return\n",
    "    f.close()"
   ]
  },
  {
   "cell_type": "code",
   "execution_count": 5,
   "metadata": {},
   "outputs": [],
   "source": [
    "url = 'https://binarysearch.com/'"
   ]
  },
  {
   "cell_type": "code",
   "execution_count": 24,
   "metadata": {},
   "outputs": [],
   "source": [
    "browser = webdriver.Chrome('./chromedriver.exe')\n",
    "browser.get(url)"
   ]
  },
  {
   "cell_type": "code",
   "execution_count": 25,
   "metadata": {},
   "outputs": [],
   "source": [
    "browser.find_element_by_xpath('//*[@id=\"root\"]/div[1]/div/div/div[1]/div[2]/div/div/div/div[1]/div[2]/div[1]').click() # Log in\n",
    "browser.find_element_by_xpath('//*[@id=\"root\"]/div[2]/div/div[3]/div/div[2]/div/div[2]/div/form/div[1]/div/div/input').send_keys('Enter username') # username\n",
    "browser.find_element_by_xpath('//*[@id=\"root\"]/div[2]/div/div[3]/div/div[2]/div/div[2]/div/form/div[2]/div/div/input').send_keys('Enter Password' + Keys.ENTER) # password\n",
    "sleep(5)\n",
    "browser.find_element_by_xpath('//*[@id=\"root\"]/div[1]/div/nav/div[1]/div[3]/a/button').click() # Problems\n",
    "sleep(3)\n",
    "browser.find_element_by_xpath('//*[@id=\"root\"]/div[1]/div/div[3]/div/div[1]/div[2]/div/div/div/div/div[1]/div[2]/div[1]/button[1]').click() # Solved\n",
    "#browser.find_element_by_xpath('//*[@id=\"landing-page-app\"]/div/div[1]/div[3]/div[1]/div/div/div[2]/div/a[5]/span').click()"
   ]
  },
  {
   "cell_type": "code",
   "execution_count": 26,
   "metadata": {},
   "outputs": [],
   "source": [
    "problems = {}"
   ]
  },
  {
   "cell_type": "code",
   "execution_count": 29,
   "metadata": {},
   "outputs": [],
   "source": [
    "# while(1):\n",
    "#     sleep(5)\n",
    "num_of_rows = len(browser.find_elements_by_xpath('//*[@id=\"root\"]/div[1]/div/div[3]/div/div[1]/div[2]/div/div/div/div/div[1]/div[4]/a'))\n",
    "for i in range(num_of_rows):\n",
    "#     if i==4 or i==5:\n",
    "#         continue\n",
    "    #xpath_of_status_link = '//*[@id=\"submission-list-app\"]/div/table/tbody/tr[' + str(i+1) + ']/td[3]/a'\n",
    "    xpath_of_problem = '//*[@id=\"root\"]/div[1]/div/div[3]/div/div[1]/div[2]/div/div/div/div/div[1]/div[4]/a[' + str(i+1) + ']/div[2]/h3'\n",
    "    elem = browser.find_element_by_xpath(xpath_of_problem) # Get problem element\n",
    "    prob_name = elem.text\n",
    "    dub_url = browser.current_url\n",
    "    #status = elem.text\n",
    "#         if status!='Accepted':\n",
    "#             continue\n",
    "    if prob_name in problems:\n",
    "        continue\n",
    "    problems[prob_name] = 1\n",
    "\n",
    "    browser.execute_script(\"window.open('');\") # Open new tab\n",
    "    browser.switch_to.window(browser.window_handles[1]) # Switch Control\n",
    "    browser.get(dub_url)\n",
    "    sleep(6)\n",
    "    browser.find_element_by_xpath(xpath_of_problem).click() # Open Solution\n",
    "    sleep(3)\n",
    "    prob_link = browser.current_url\n",
    "    browser.find_element_by_xpath('//*[@id=\"root\"]/div[1]/div/div[3]/div/div/div[2]/div[1]/div[1]/div/a[2]').click() # Submission\n",
    "    sleep(2)\n",
    "    browser.find_element_by_xpath('//*[@id=\"root\"]/div[1]/div/div[3]/div/div/div[2]/div[1]/div[2]/div/div[1]/div[2]/div/div/div/div[2]/a/div[1]/div/div[1]/div/div/h3').click() # Accepted\n",
    "    try:\n",
    "        code = browser.find_element_by_xpath('//*[@id=\"root\"]/div[1]/div/div[3]/div/div/div[3]/div[1]/div[2]/div/div/div/div/div/div[1]/div/div[1]/div[2]/div/div/div/div/div[2]/div/div/pre/code').text # code\n",
    "    except:\n",
    "        browser.close() # Close tab\n",
    "        browser.switch_to.window(browser.window_handles[0]) # Switch back control\n",
    "        continue\n",
    "\n",
    "    browser.close() # Close tab\n",
    "    browser.switch_to.window(browser.window_handles[0]) # Switch back control\n",
    "\n",
    "\n",
    "    make_folder(prob_name,prob_link)\n",
    "        \n",
    "#     sleep(2)\n",
    "#     try:\n",
    "#         browser.find_element_by_xpath('//*[@id=\"submission-list-app\"]/div/nav/ul/li[2]/a').click() # next arrow\n",
    "#     except:\n",
    "#         break"
   ]
  },
  {
   "cell_type": "code",
   "execution_count": null,
   "metadata": {},
   "outputs": [],
   "source": []
  }
 ],
 "metadata": {
  "kernelspec": {
   "display_name": "Python 3",
   "language": "python",
   "name": "python3"
  },
  "language_info": {
   "codemirror_mode": {
    "name": "ipython",
    "version": 3
   },
   "file_extension": ".py",
   "mimetype": "text/x-python",
   "name": "python",
   "nbconvert_exporter": "python",
   "pygments_lexer": "ipython3",
   "version": "3.7.3"
  }
 },
 "nbformat": 4,
 "nbformat_minor": 2
}
